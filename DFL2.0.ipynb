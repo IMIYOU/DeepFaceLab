{
  "nbformat": 4,
  "nbformat_minor": 0,
  "metadata": {
    "colab": {
      "name": "DFL2.0英文版",
      "provenance": [],
      "collapsed_sections": [
        "BDg_jiQ9adQe",
        "lZ4FOxo0Ggnm",
        "JuVn21kt40Gw",
        "hqwOlJG4MdLC",
        "tUNVcbujhm00",
        "WTuyUxgdLA13",
        "avAcSL_uvtq_",
        "Mi9KdQlhRDU3"
      ],
      "toc_visible": true
    },
    "kernelspec": {
      "name": "python3",
      "display_name": "Python 3"
    },
    "accelerator": "GPU"
  },
  "cells": [
    {
      "cell_type": "markdown",
      "metadata": {
        "id": "0cKdTCuv4tXh",
        "colab_type": "text"
      },
      "source": [
        "<a href=\"https://colab.research.google.com/github/IMIYOU/DeepFaceLab/blob/master/DFL2.0.ipynb\" target=\"_parent\"><img src=\"https://colab.research.google.com/assets/colab-badge.svg\" alt=\"Open In Colab\"/></a>"
      ]
    },
    {
      "cell_type": "markdown",
      "metadata": {
        "colab_type": "text",
        "id": "N5IVPxOFq8f-"
      },
      "source": [
        "# 欢迎使用DFL2.0英文版!\n",
        "\n",
        "这是针对Google Colab的DFL的改编版本,如使用中出现问题可联系QQ：269777955！\n",
        "\n",
        "\n",
        "# 概述\n",
        "*   提取器功能齐全！\n",
        "*   训练不可以使用预览！\n",
        "*   合并功能完整！\n",
        "*   您可以使用Google驱动器导入/导出工作区！\n",
        "*   使用“管理工作区”块中可以执行的工作区导入/导出和其他操作！\n",
        "*   Google Colab机器激活12小时，DFL Colab在训练模式下备份您的工作区！\n",
        "*   谷歌不喜欢长期的繁重计算！因此，对于连续两次以上的训练，使用两个Google帐户！建议将您的训练分成两个帐户，但您可以使用一个谷歌驱动器帐户来存储您的工作区！\n"
      ]
    },
            {
      "cell_type": "markdown",
      "metadata": {
        "id": "IYtWMzOvLQ3s",
        "colab_type": "text"
      },
      "source": [
        "## 自动重连\n",
        "\n",
        "此单元格运行JS代码以自动重新连接到GPU。"
      ]
    },
    {
      "cell_type": "code",
      "metadata": {
        "id": "jtClEMAMLVHw",
        "colab_type": "code",
        "colab": {}
      },
      "source": [
        "import IPython\n",
        "from google.colab import output\n",
        "\n",
        "display(IPython.display.Javascript('''\n",
        " function ClickConnect(){\n",
        "   btn = document.querySelector(\"colab-connect-button\")\n",
        "   if (btn != null){\n",
        "     console.log(\"Click colab-connect-button\"); \n",
        "     btn.click() \n",
        "     }\n",
        "   \n",
        "   btn = document.getElementById('ok')\n",
        "   if (btn != null){\n",
        "     console.log(\"Click reconnect\"); \n",
        "     btn.click() \n",
        "     }\n",
        "  }\n",
        "  \n",
        "setInterval(ClickConnect,60000)\n",
        "'''))\n",
        "\n",
        "print(\"Done.\")"
      ],
      "execution_count": 0,
      "outputs": []
    },
    {
      "cell_type": "markdown",
      "metadata": {
        "id": "BDg_jiQ9adQe",
        "colab_type": "text"
      },
      "source": [
        "# 查看分配到的GPU\n",
        "\n",
        "*   Google Colab可以为您提供一个特斯拉图形卡: K80, T4, P4 or P100\n",
        "*   在使用DeepFaceLab之前，您可以在这里检查GPU的型号\n",
        "\n"
      ]
    },
    {
      "cell_type": "code",
      "metadata": {
        "id": "WJe71S6gbzt3",
        "colab_type": "code",
        "colab": {}
      },
      "source": [
        "!nvidia-smi"
      ],
      "execution_count": 0,
      "outputs": []
    },
    {
      "cell_type": "markdown",
      "metadata": {
        "id": "lZ4FOxo0Ggnm",
        "colab_type": "text"
      },
      "source": [
        "#挂载Google云盘"
      ]
    },
    {
      "cell_type": "code",
      "metadata": {
        "colab_type": "code",
        "cellView": "form",
        "id": "7vU1M2IlLEcO",
        "colab": {}
      },
      "source": [
        "#@title 开始挂载 \n",
        "#挂载谷歌云盘\n",
        "#点击链接授权，复制授权码，填入框框，然后回车。\n",
        "\n",
        "from google.colab import drive\n",
        "drive.mount('/content/drive', force_remount=True)\n",
        "\n",
        "#创建DeepFaceLab目录，并且进入目录\n",
        "%cd /content/drive/My Drive/\n",
        "!mkdir DeepFaceLab\n",
        "%cd /content/drive/My Drive/DeepFaceLab/\n"
      ],
      "execution_count": 0,
      "outputs": []
    },
    {
      "cell_type": "markdown",
      "metadata": {
        "id": "JuVn21kt40Gw",
        "colab_type": "text"
      },
      "source": [
        "# 安装DFL程序以及依赖环境\n",
        "\n",
        "* 全新安装或者升级现有程序\n",
        "* 所有安装都是自动的"
      ]
    },
    {
      "cell_type": "code",
      "metadata": {
        "id": "JG-f2WqT4fLK",
        "colab_type": "code",
        "cellView": "form",
        "colab": {}
      },
      "source": [
        "#@title 安装DeepFaceLab程序\n",
        "\n",
        "Mode = \"全新安装\" #@param [\"全新安装\", \"更新程序\"]\n",
        "\n",
        "from pathlib import Path\n",
        "if (Mode == \"全新安装\"):\n",
        "  !git clone https://github.com/iperov/DeepFaceLab.git\n",
        "\n",
        "  # fix linux warning\n",
        "  # /usr/lib/python3.6/multiprocessing/semaphore_tracker.py:143: UserWarning: semaphore_tracker: There appear to be 1 leaked semaphores to clean up at shutdown\n",
        "  fin = open(\"/usr/lib/python3.6/multiprocessing/semaphore_tracker.py\", \"rt\")\n",
        "  data = fin.read()\n",
        "  data = data.replace('if cache:', 'if False:')\n",
        "  fin.close()\n",
        "\n",
        "  fin = open(\"/usr/lib/python3.6/multiprocessing/semaphore_tracker.py\", \"wt\")\n",
        "  fin.write(data)\n",
        "  fin.close()\n",
        "else:\n",
        "  %cd /content/drive/My Drive/DeepFaceLab/DeepFaceLab/\n",
        "  !git pull\n",
        "\n",
        "if not Path(\"/content/drive/My\\ Drive/DeepFaceLab/pretrain\").exists():\n",
        "  print(\"Downloading CelebA faceset ... \")\n",
        "  !wget -q --no-check-certificate -r 'https://github.com/chervonij/DFL-Colab/releases/download/pretrain-CelebA/pretrain_CelebA.zip' -O /content/drive/My\\ Drive/DeepFaceLab/pretrain_CelebA.zip\n",
        "  !mkdir /content/drive/My\\ Drive/DeepFaceLab/pretrain\n",
        "  !unzip -q /content/drive/My\\ Drive/DeepFaceLab/pretrain_CelebA.zip -d /content/drive/My\\ Drive/DeepFaceLab/pretrain/\n",
        "  !rm /content/drive/My\\ Drive/DeepFaceLab/pretrain_CelebA.zip\n",
        "\n",
        "if not Path(\"/content/drive/My\\ Drive/DeepFaceLab/pretrain_Q96\").exists():\n",
        "  print(\"Downloading Q96 pretrained model ...\")\n",
        "  !wget -q --no-check-certificate -r 'https://github.com/chervonij/DFL-Colab/releases/download/Q96_model_pretrained/Q96_model_pretrained.zip' -O /content/drive/My\\ Drive/DeepFaceLab/pretrain_Q96.zip\n",
        "  !mkdir /content/drive/My\\ Drive/DeepFaceLab/pretrain_Q96\n",
        "  !unzip -q /content/drive/My\\ Drive/DeepFaceLab/pretrain_Q96.zip -d /content/drive/My\\ Drive/DeepFaceLab/pretrain_Q96/\n",
        "  !rm /content/drive/My\\ Drive/DeepFaceLab/pretrain_Q96.zip\n",
        "\n",
        "if not Path(\"/content/drive/My\\ Drive/DeepFaceLab/workspace\").exists():\n",
        "  !mkdir /content/drive/My\\ Drive/DeepFaceLab/workspace; mkdir /content/drive/My\\ Drive/DeepFaceLab/workspace/data_src; mkdir /content/drive/My\\ Drive/DeepFaceLab/workspace/data_src/aligned; mkdir /content/drive/My\\ Drive/DeepFaceLab/workspace/data_dst; mkdir /content/drive/My\\ Drive/DeepFaceLab/workspace/data_dst/aligned; mkdir /content/drive/My\\ Drive/DeepFaceLab/workspace/model  \n",
        "\n",
        "print(\"Done!\")"
      ],
      "execution_count": 0,
      "outputs": []
    },
    {
      "cell_type": "code",
      "metadata": {
        "id": "fshA3DBLzRQo",
        "colab_type": "code",
        "cellView": "form",
        "colab": {}
      },
      "source": [
        "#@title 安装Python依赖\n",
        "!pip install -r /content/drive/My\\ Drive/DeepFaceLab/DeepFaceLab/requirements-colab.txt\n",
        "!pip install --upgrade scikit-image\n",
        "!apt-get install cuda-10-0"
      ],
      "execution_count": 0,
      "outputs": []
    },
    {
      "cell_type": "markdown",
      "metadata": {
        "id": "hqwOlJG4MdLC",
        "colab_type": "text"
      },
      "source": [
        "#管理工作区\n",
        "\n",
        "\n",
        "\n",
        "*   您可以导入/导出工作区或单个数据，如使用Google Drive的模型文件\n",
        "*   此外，还可以使用HFS（HTTP文件服务器）从计算机直接导入/导出工作区\n",
        "*   您可以清除所有工作区或删除其中的一部分\n",
        "\n"
      ]
    },
    {
      "cell_type": "code",
      "metadata": {
        "id": "z4w_sUzgOQmL",
        "colab_type": "code",
        "cellView": "form",
        "colab": {}
      },
      "source": [
        "#@title 从云盘根目录解压文件到工作区\n",
        "\n",
        "Mode = \"models\" #@param [\"workspace\", \"data_src\", \"data_dst\", \"data_src aligned\", \"data_dst aligned\", \"models\"]\n",
        "Archive_name = \"model.zip\" #@param {type:\"string\"}\n",
        "\n",
        "#Mount Google Drive as folder\n",
        "from google.colab import drive\n",
        "drive.mount('/content/drive', force_remount=True)\n",
        "\n",
        "def zip_and_copy(path, mode):\n",
        "  unzip_cmd=\" -q \"+Archive_name\n",
        "  \n",
        "  %cd $path\n",
        "  copy_cmd = \"/content/drive/My\\ Drive/\"+Archive_name+\" \"+path\n",
        "  !cp $copy_cmd\n",
        "  !unzip $unzip_cmd    \n",
        "  !rm $Archive_name\n",
        "\n",
        "if Mode == \"workspace\":\n",
        "  zip_and_copy(\"/content/drive/My\\ Drive/DeepFaceLab\", \"workspace\")\n",
        "elif Mode == \"data_src\":\n",
        "  zip_and_copy(\"/content/drive/My\\ Drive/DeepFaceLab/workspace\", \"data_src\")\n",
        "elif Mode == \"data_dst\":\n",
        "  zip_and_copy(\"/content/drive/My\\ Drive/DeepFaceLab/workspace\", \"data_dst\")\n",
        "elif Mode == \"data_src aligned\":\n",
        "  zip_and_copy(\"/content/drive/My\\ Drive/DeepFaceLab/workspace/data_src\", \"aligned\")\n",
        "elif Mode == \"data_dst aligned\":\n",
        "  zip_and_copy(\"/content/drive/My\\ Drive/DeepFaceLab/workspace/data_dst\", \"aligned\")\n",
        "elif Mode == \"models\":\n",
        "  zip_and_copy(\"/content/drive/My\\ Drive/DeepFaceLab/workspace\", \"model\")\n",
        "  \n",
        "print(\"Done!\")\n",
        "\n"
      ],
      "execution_count": 0,
      "outputs": []
    },
    {
      "cell_type": "code",
      "metadata": {
        "id": "0Y3WfuwoNXqC",
        "colab_type": "code",
        "cellView": "form",
        "colab": {}
      },
      "source": [
        "#@title 压缩工作区文件到云盘根目录 { form-width: \"30%\" }\n",
        "Mode = \"data_src\" #@param [\"workspace\", \"data_src\", \"data_dst\", \"data_src aligned\", \"data_dst aligned\", \"merged\", \"models\", \"result video\"]\n",
        "Archive_name = \"data_src.zip\" #@param {type:\"string\"}\n",
        "\n",
        "#Mount Google Drive as folder\n",
        "from google.colab import drive\n",
        "drive.mount('/content/drive', force_remount=True)\n",
        "\n",
        "def zip_and_copy(path, mode):\n",
        "  zip_cmd=\"-r -q \"+Archive_name+\" \"\n",
        "  \n",
        "  %cd $path\n",
        "  zip_cmd+=mode\n",
        "  !zip $zip_cmd\n",
        "  copy_cmd = \" \"+Archive_name+\"  /content/drive/My\\ Drive/\"\n",
        "  !cp $copy_cmd\n",
        "  !rm $Archive_name\n",
        "\n",
        "if Mode == \"workspace\":\n",
        "  zip_and_copy(\"/content/drive/My\\ Drive/DeepFaceLab\", \"workspace\")\n",
        "elif Mode == \"data_src\":\n",
        "  zip_and_copy(\"/content/drive/My\\ Drive/DeepFaceLab/workspace\", \"data_src\")\n",
        "elif Mode == \"data_dst\":\n",
        "  zip_and_copy(\"/content/drive/My\\ Drive/DeepFaceLab/workspace\", \"data_dst\")\n",
        "elif Mode == \"data_src aligned\":\n",
        "  zip_and_copy(\"/content/drive/My\\ Drive/DeepFaceLab/workspace/data_src\", \"aligned\")\n",
        "elif Mode == \"data_dst aligned\":\n",
        "  zip_and_copy(\"/content/drive/My\\ Drive/DeepFaceLab/workspace/data_dst\", \"aligned\")\n",
        "elif Mode == \"merged\":\n",
        "  zip_and_copy(\"/content/drive/My\\ Drive/DeepFaceLab/workspace/data_dst\", \"merged\")\n",
        "elif Mode == \"models\":\n",
        "  zip_and_copy(\"/content/drive/My\\ Drive/DeepFaceLab/workspace\", \"model\")\n",
        "elif Mode == \"result video\":\n",
        "  !cp /content/drive/My\\ Drive/DeepFaceLab/workspace/result.mp4 /content/drive/My\\ Drive/\n",
        "  \n",
        "print(\"Done!\")\n"
      ],
      "execution_count": 0,
      "outputs": []
    },
    {
      "cell_type": "code",
      "metadata": {
        "id": "0hIvJtxwTGcb",
        "colab_type": "code",
        "colab": {}
      },
      "source": [
        "#@title 从HTTP文件服务器解压文件到工作区{ form-width: \"30%\", display-mode: \"form\" }\n",
        "URL = \"http://\" #@param {type:\"string\"}\n",
        "Mode = \"download to workspace\" #@param [\"unzip to DeepFaceLab\", \"unzip to workspace\", \"unzip to workspace/data_src\", \"unzip to workspace/data_src/aligned\", \"unzip to workspace/data_dst\", \"unzip to workspace/data_dst/aligned\", \"unzip to workspace/model\", \"download to workspace\"]\n",
        "\n",
        "import urllib\n",
        "from pathlib import Path\n",
        "\n",
        "def unzip(zip_path, dest_path):\n",
        "\n",
        "    \n",
        "  unzip_cmd = \" unzip -q \" + zip_path + \" -d \"+dest_path\n",
        "  !$unzip_cmd  \n",
        "  rm_cmd = \"rm \"+dest_path + url_path.name\n",
        "  !$rm_cmd\n",
        "  print(\"Unziped!\")\n",
        "  \n",
        "\n",
        "if Mode == \"unzip to DeepFaceLab\":\n",
        "  dest_path = \"/content/drive/My\\ Drive/DeepFaceLab/\"\n",
        "elif Mode == \"unzip to workspace\":\n",
        "  dest_path = \"/content/drive/My\\ Drive/DeepFaceLab/workspace/\"\n",
        "elif Mode == \"unzip to workspace/data_src\":\n",
        "  dest_path = \"/content/drive/My\\ Drive/DeepFaceLab/workspace/data_src/\"\n",
        "elif Mode == \"unzip to workspace/data_src/aligned\":\n",
        "  dest_path = \"/content/drive/My\\ Drive/DeepFaceLab/workspace/data_src/aligned/\"\n",
        "elif Mode == \"unzip to workspace/data_dst\":\n",
        "  dest_path = \"/content/drive/My\\ Drive/DeepFaceLab/workspace/data_dst/\"\n",
        "elif Mode == \"unzip to workspace/data_dst/aligned\":\n",
        "  dest_path = \"/content/drive/My\\ Drive/DeepFaceLab/workspace/data_dst/aligned/\"\n",
        "elif Mode == \"unzip to workspace/model\":\n",
        "  dest_path = \"/content/drive/My\\ Drive/DeepFaceLab/workspace/model/\"\n",
        "elif Mode == \"download to workspace\":\n",
        "  dest_path = \"/content/drive/My\\ Drive/DeepFaceLab/workspace/\"\n",
        "\n",
        "if not Path(\"/content/drive/My\\ Drive/DeepFaceLab/workspace\").exists():\n",
        "  cmd = \"mkdir /content/drive/My\\ Drive/DeepFaceLab/workspace; mkdir /content/drive/My\\ Drive/DeepFaceLab/workspace/data_src; mkdir /content/drive/My\\ Drive/DeepFaceLab/workspace/data_src/aligned; mkdir /content/drive/My\\ Drive/DeepFaceLab/workspace/data_dst; mkdir /content/drive/My\\ Drive/DeepFaceLab/workspace/data_dst/aligned; mkdir /content/drive/My\\ Drive/DeepFaceLab/workspace/model\"\n",
        "  !$cmd\n",
        "\n",
        "url_path = Path(URL)\n",
        "urllib.request.urlretrieve ( URL, dest_path + url_path.name )\n",
        "\n",
        "if (url_path.suffix == \".zip\") and (Mode!=\"download to content/drive/My\\ Drive/DeepFaceLab/workspace\"):\n",
        "  unzip(dest_path + url_path.name, dest_path)\n",
        "\n",
        "  \n",
        "print(\"Done!\")"
      ],
      "execution_count": 0,
      "outputs": []
    },
    {
      "cell_type": "code",
      "metadata": {
        "id": "7V1sc7rxNKLO",
        "colab_type": "code",
        "cellView": "form",
        "colab": {}
      },
      "source": [
        "#@title 从工作区压缩文件到HTTP文件服务器\n",
        "URL = \"http://\" #@param {type:\"string\"}\n",
        "Mode = \"upload workspace\" #@param [\"upload workspace\", \"upload data_src\", \"upload data_dst\", \"upload data_src aligned\", \"upload data_dst aligned\", \"upload merged\", \"upload model\", \"upload result video\"]\n",
        "\n",
        "cmd_zip = \"zip -r -q \"\n",
        "\n",
        "def run_cmd(zip_path, curl_url):\n",
        "  cmd_zip = \"zip -r -q \"+zip_path\n",
        "  cmd_curl = \"curl --silent -F \"+curl_url+\" -D out.txt > /dev/null\"\n",
        "  !$cmd_zip\n",
        "  !$cmd_curl\n",
        "\n",
        "\n",
        "if Mode == \"upload workspace\":\n",
        "  %cd \"/content\"\n",
        "  run_cmd(\"workspace.zip workspace/\",\"'data=@/content/drive/My\\ Drive/workspace.zip' \"+URL)\n",
        "elif Mode == \"upload data_src\":\n",
        "  %cd \"/content/workspace\"\n",
        "  run_cmd(\"data_src.zip data_src/\", \"'data=@/content/drive/My\\ Drive/workspace/data_src.zip' \"+URL)\n",
        "elif Mode == \"upload data_dst\":\n",
        "  %cd \"/content/workspace\"\n",
        "  run_cmd(\"data_dst.zip data_dst/\", \"'data=@/content/drive/My\\ Drive/workspace/data_dst.zip' \"+URL)\n",
        "elif Mode == \"upload data_src aligned\":\n",
        "  %cd \"/content/workspace\"\n",
        "  run_cmd(\"data_src_aligned.zip data_src/aligned\", \"'data=@/content/drive/My\\ Drive/workspace/data_src_aligned.zip' \"+URL )\n",
        "elif Mode == \"upload data_dst aligned\":\n",
        "  %cd \"/content/workspace\"\n",
        "  run_cmd(\"data_dst_aligned.zip data_dst/aligned/\", \"'data=@/content/drive/My\\ Drive/workspace/data_dst_aligned.zip' \"+URL)\n",
        "elif Mode == \"upload merged\":\n",
        "  %cd \"/content/workspace/data_dst\"\n",
        "  run_cmd(\"merged.zip merged/\",\"'data=@/content/drive/My\\ Drive/workspace/data_dst/merged.zip' \"+URL )\n",
        "elif Mode == \"upload model\":\n",
        "  %cd \"/content/workspace\"\n",
        "  run_cmd(\"model.zip model/\", \"'data=@/content/drive/My\\ Drive/workspace/model.zip' \"+URL)\n",
        "elif Mode == \"upload result video\":\n",
        "  %cd \"/content/workspace\"\n",
        "  run_cmd(\"result.zip result.mp4\", \"'data=@/content/drive/My\\ Drive/workspace/result.zip' \"+URL)\n",
        "  \n",
        "  \n",
        "!rm *.zip\n",
        "\n",
        "%cd \"/content/drive/My\\ Drive\"\n",
        "print(\"Done!\")"
      ],
      "execution_count": 0,
      "outputs": []
    },
    {
      "cell_type": "code",
      "metadata": {
        "id": "Ta6ue_UGMkki",
        "colab_type": "code",
        "cellView": "form",
        "colab": {}
      },
      "source": [
        "#@title 删除并重建工作区目录\n",
        "Mode = \"Delete and recreate workspace\" #@param [\"Delete and recreate workspace\", \"Delete models\", \"Delete data_src\", \"Delete data_src aligned\", \"Delete data_src video\", \"Delete data_dst\", \"Delete data_dst aligned\", \"Delete merged frames\"]\n",
        "\n",
        "%cd \"/content/drive/My Drive/DeepFaceLab\" \n",
        "\n",
        "if Mode == \"Delete and recreate workspace\":\n",
        "  cmd = \"rm -r /content/drive/My\\ Drive/DeepFaceLab/workspace ; mkdir /content/drive/My\\ Drive/DeepFaceLab/workspace; mkdir /content/drive/My\\ Drive/DeepFaceLab/workspace/data_src; mkdir /content/drive/My\\ Drive/DeepFaceLab/workspace/data_src/aligned; mkdir /content/drive/My\\ Drive/DeepFaceLab/workspace/data_dst; mkdir /content/drive/My\\ Drive/DeepFaceLab/workspace/data_dst/aligned; mkdir /content/drive/My\\ Drive/DeepFaceLab/workspace/model\"  \n",
        "elif Mode == \"Delete models\":\n",
        "  cmd = \"rm -r /content/drive/My\\ Drive/DeepFaceLab/workspace/model/*\"\n",
        "elif Mode == \"Delete data_src\":\n",
        "  cmd = \"rm /content/drive/My\\ Drive/DeepFaceLab/workspace/data_src/*.png || rm -r /content/drive/My\\ Drive/DeepFaceLab/workspace/data_src/*.jpg\"\n",
        "elif Mode == \"Delete data_src aligned\":\n",
        "  cmd = \"rm -r /content/drive/My\\ Drive/DeepFaceLab/workspace/data_src/aligned/*\"\n",
        "elif Mode == \"Delete data_src video\":\n",
        "  cmd = \"rm -r /content/drive/My\\ Drive/DeepFaceLab/workspace/data_src.*\"\n",
        "elif Mode == \"Delete data_dst\":\n",
        "  cmd = \"rm /content/drive/My\\ Drive/DeepFaceLab/workspace/data_dst/*.png || rm /content/drive/My\\ Drive/DeepFaceLab/workspace/data_dst/*.jpg\"\n",
        "elif Mode == \"Delete data_dst aligned\":\n",
        "  cmd = \"rm -r /content/drive/My\\ Drive/DeepFaceLab/workspace/data_dst/aligned/*\"\n",
        "elif Mode == \"Delete merged frames\":\n",
        "  cmd = \"rm -r /content/drive/My\\ Drive/DeepFaceLab/workspace/data_dst/merged\"\n",
        "  \n",
        "!$cmd\n",
        "print(\"Done!\")"
      ],
      "execution_count": 0,
      "outputs": []
    },
    {
      "cell_type": "markdown",
      "metadata": {
        "id": "tUNVcbujhm00",
        "colab_type": "text"
      },
      "source": [
        "# 提取、排序和人脸素材工具\n",
        "* 为SRC或DST视频提取帧\n",
        "* 对SRC或DST视频进行去噪\n",
        "* 使用其中一个检测器提取人脸，（S3FD-推荐），如果需要，可以使用修复提取帧\n",
        "* 提取并手动排序后将工作区导出到Google Drive（在“管理工作区”模块中）\n",
        "* 你可以使用DFL FacesetEnhancer增强你的faceset增强图像将取代您的“aligned”目录\n"
      ]
    },
    {
      "cell_type": "code",
      "metadata": {
        "id": "qwJEbz5Nhot0",
        "colab_type": "code",
        "cellView": "form",
        "colab": {}
      },
      "source": [
        "#@title 视频转图片\n",
        "Video = \"data_src\" #@param [\"data_src\", \"data_dst\"]\n",
        "\n",
        "%cd \"/content/drive/My Drive/DeepFaceLab\"\n",
        "\n",
        "cmd = \"DeepFaceLab/main.py videoed extract-video\"\n",
        "\n",
        "if Video == \"data_dst\":\n",
        "  cmd+= \" --input-file workspace/data_dst.* --output-dir workspace/data_dst/\"\n",
        "else:\n",
        "  cmd+= \" --input-file workspace/data_src.* --output-dir workspace/data_src/\"\n",
        "  \n",
        "!python $cmd"
      ],
      "execution_count": 0,
      "outputs": []
    },
    {
      "cell_type": "code",
      "metadata": {
        "id": "bFmPo0s2lTil",
        "colab_type": "code",
        "cellView": "form",
        "colab": {}
      },
      "source": [
        "#@title 图片去噪\n",
        "Data = \"data_src\" #@param [\"data_src\", \"data_dst\"]\n",
        "Factor = 1 #@param {type:\"slider\", min:1, max:20, step:1}\n",
        "\n",
        "cmd = \"DeepFaceLab/main.py videoed denoise-image-sequence --input-dir workspace/\"+Data+\" --factor \"+str(Factor)\n",
        "\n",
        "%cd \"/content/drive/My Drive/DeepFaceLab\"\n",
        "!python $cmd"
      ],
      "execution_count": 0,
      "outputs": []
    },
    {
      "cell_type": "code",
      "metadata": {
        "id": "nmq0Sj2bmq7d",
        "colab_type": "code",
        "cellView": "form",
        "colab": {}
      },
      "source": [
        "#@title 人脸素材提取\n",
        "Data = \"data_src\" #@param [\"data_src\", \"data_dst\"]\n",
        "Detector = \"S3FD\" #@param [\"S3FD\", \"S3FD (整张脸)\"]\n",
        "Debug = False #@param {type:\"boolean\"}\n",
        "\n",
        "detect_type = \"s3fd\"\n",
        "dbg = \" --output-debug\" if Debug else \" --no-output-debug\"\n",
        "\n",
        "folder = \"workspace/\"+Data\n",
        "folder_aligned = folder+\"/aligned\"\n",
        "\n",
        "cmd = \"DeepFaceLab/main.py extract --input-dir \"+folder+\" --output-dir \"+folder_aligned\n",
        "cmd+=\" --detector \"+detect_type+\" --force-gpu-idxs 0\"+dbg\n",
        "\n",
        "if \"整张脸\" in Detector:\n",
        "  cmd+=\" --face-type whole_face\" \n",
        "%cd \"/content/drive/My Drive/DeepFaceLab\"\n",
        "!python $cmd"
      ],
      "execution_count": 0,
      "outputs": []
    },
    {
      "cell_type": "code",
      "metadata": {
        "id": "TRNxUFE6p6Eu",
        "colab_type": "code",
        "cellView": "form",
        "colab": {}
      },
      "source": [
        "#@title 人脸排序检查\n",
        "Data = \"data_src\" #@param [\"data_src\", \"data_dst\"]\n",
        "sort_type = \"hist\" #@param [\"blur\", \"face-yaw\", \"face-pitch\", \"face-source-rect-size\", \"hist\", \"hist-dissim\", \"brightness\", \"hue\", \"black\", \"origname\", \"oneface\", \"final\", \"final-faster\", \"absdiff\"]\n",
        "\n",
        "cmd = \"DeepFaceLab/main.py sort --input-dir workspace/\"+Data+\"/aligned --by \"+sort_type\n",
        "\n",
        "%cd \"/content/drive/My Drive/DeepFaceLab\"\n",
        "!python $cmd"
      ],
      "execution_count": 0,
      "outputs": []
    },
    {
      "cell_type": "code",
      "metadata": {
        "id": "O5MbnVDyXkP7",
        "colab_type": "code",
        "cellView": "form",
        "colab": {}
      },
      "source": [
        "#@title 人脸素材细节提升\n",
        "Data = \"data_src\" #@param [\"data_src\", \"data_dst\"]\n",
        "\n",
        "data_path = \"/content/drive/My\\ Drive/DeepFaceLab/workspace/\"+Data+\"/aligned\"\n",
        "cmd = \"/content/drive/My\\ Drive/DeepFaceLab/DeepFaceLab/main.py facesettool enhance --input-dir \"+data_path\n",
        "!python $cmd"
      ],
      "execution_count": 0,
      "outputs": []
    },
    {
      "cell_type": "code",
      "metadata": {
        "id": "O5MbnVDyXkP8",
        "colab_type": "code",
        "cellView": "form",
        "colab": {}
      },
      "source": [
        "#@title 人脸素材打包\n",
        "Data = \"data_src\" #@param [\"data_src\", \"data_dst\"]\n",
        "\n",
        "data_path = \"/content/drive/My\\ Drive/DeepFaceLab/workspace/\"+Data+\"/aligned\"\n",
        "cmd = \"/content/drive/My\\ Drive/DeepFaceLab/DeepFaceLab/main.py util --pack-faceset --input-dir \"+data_path\n",
        "!python $cmd"
      ],
      "execution_count": 0,
      "outputs": []
    },
    {
      "cell_type": "code",
      "metadata": {
        "id": "O5MbnVDyXkP9",
        "colab_type": "code",
        "cellView": "form",
        "colab": {}
      },
      "source": [
        "#@title 人脸素材解包\n",
        "Data = \"data_src\" #@param [\"data_src\", \"data_dst\"]\n",
        "\n",
        "data_path = \"/content/drive/My\\ Drive/DeepFaceLab/workspace/\"+Data+\"/aligned\"\n",
        "cmd = \"/content/drive/My\\ Drive/DeepFaceLab/DeepFaceLab/main.py util --unpack-faceset --input-dir \"+data_path\n",
        "!python $cmd"
      ],
      "execution_count": 0,
      "outputs": []
    },
        {
      "cell_type": "code",
      "metadata": {
        "id": "-VVvtoBMGnrA",
        "colab_type": "code",
        "colab": {},
        "cellView": "form"
      },
      "source": [
        "#@title 为素材应用或者移除已经训练好的XSeg遮罩（记得解包人脸素材后操作）\n",
        "Mode = \"Remove mask\" #@param [\"Apply mask\", \"Remove mask\"]\n",
        "Data = \"data_src\" #@param [\"data_src\", \"data_dst\"]\n",
        "\n",
        "main_path = \"/content/drive/My\\ Drive/DeepFaceLab/DeepFaceLab/main.py \"\n",
        "data_path = \"/content/drive/My\\ Drive/DeepFaceLab/workspace/\"+Data+\"/aligned \"\n",
        "mode_arg = \"apply \" if Mode == \"Apply mask\" else \"remove \"\n",
        "cmd = main_path+\"xseg \"+mode_arg+\"--input-dir \"+data_path\n",
        "cmd += \"--model-dir /content/drive/My\\ Drive/DeepFaceLab/workspace/model\" if mode_arg == \"apply \" else \"\"\n",
        "\n",
        "!python $cmd"
      ],
      "execution_count": 0,
      "outputs": []
    },
    {
      "cell_type": "markdown",
      "metadata": {
        "id": "WTuyUxgdLA13",
        "colab_type": "text"
      },
      "source": [
        "# 训练模式\n",
        "\n",
        "* 训练模式分为Quick96和SAEHD两个模型以及XSeg模型遮罩方案，根据自己需求选择！\n",
        "* 在输出字段上设置模型选项\n",
        "* 如果转到文件管理器中的“模型”文件夹并双击preview.jpg文件，则可以手动查看预览\n",
        "* 此外，还可以在“管理工作区”块中手动导出工作区，训练XSeg模型时要与你的SAEHD模型训练范围相同！"
      ]
    },
    {
      "cell_type": "code",
      "metadata": {
        "id": "Z0Kya-PJLDhv",
        "colab_type": "code",
        "cellView": "form",
        "colab": {}
      },
      "source": [
        "#@title 模型训练\n",
        "#挂载谷歌云盘\n",
        "#点击链接授权，复制授权码，填入框框，然后回车。\n",
        "\n",
        "Model = \"SAEHD\" #@param [\"SAEHD\", \"Quick96\", \"XSeg\"]\n",
        "Silent_Start = True #@param {type:\"boolean\"}\n",
        "\n",
        "from google.colab import drive\n",
        "drive.mount('/content/drive', force_remount=True)\n",
        "\n",
        "# 进入DeepFaceLab_Colab目录\n",
        "%cd /content/drive/My Drive/DeepFaceLab/DeepFaceLab\n",
        "\n",
        "# 安装Python依赖\n",
        "!pip install -r requirements-colab.txt\n",
        "!pip install --upgrade scikit-image\n",
        "!sudo apt-get install cuda-10-0\n",
        "\n",
        "# 开始训练SAEHD\n",
        "cmd =\"main.py train --training-data-src-dir ../workspace/data_src/aligned --training-data-dst-dir ../workspace/data_dst/aligned --model-dir ../workspace/model --model \" + Model +\" --no-preview\"\n",
        "\n",
        "if Model == \"Quick96\":\n",
        "  cmd+= \" --pretrained-model-dir pretrain_Q96\"\n",
        "\n",
        "if Silent_Start:\n",
        "  cmd+= \" --silent-start\"\n",
        "\n",
        "else:\n",
        "  train_cmd = (cmd)\n",
        "\n",
        "!python $cmd"
      ],
      "execution_count": 0,
      "outputs": []
    },
    {
      "cell_type": "markdown",
      "metadata": {
        "id": "avAcSL_uvtq_",
        "colab_type": "text"
      },
      "source": [
        "# 合成处理"
      ]
    },
    {
      "cell_type": "code",
      "metadata": {
        "id": "A3Y8K22Sv9Gn",
        "colab_type": "code",
        "cellView": "form",
        "colab": {}
      },
      "source": [
        "#@title 合成图片\n",
        "Model = \"SAEHD\" #@param [\"SAEHD\", \"Quick96\" ]\n",
        "\n",
        "cmd = \"DeepFaceLab/main.py merge --input-dir workspace/data_dst --output-dir workspace/data_dst/merged --output-mask-dir workspace/data_dst/merged_mask --aligned-dir workspace/data_dst/aligned --model-dir workspace/model --model \"+Model\n",
        "\n",
        "%cd \"/content/drive/My Drive/DeepFaceLab\"\n",
        "!python $cmd"
      ],
      "execution_count": 0,
      "outputs": []
    },
    {
      "cell_type": "code",
      "metadata": {
        "id": "JNeGfiZpxlnz",
        "colab_type": "code",
        "cellView": "form",
        "colab": {}
      },
      "source": [
        "#@title 合成视频并复制到Google 云盘\n",
        "Mode = \"result video\" #@param [\"result video\", \"result_mask video\"]\n",
        "Copy_to_Drive = True #@param {type:\"boolean\"}\n",
        "\n",
        "\n",
        "if Mode == \"result video\":\n",
        "  !python DeepFaceLab/main.py videoed video-from-sequence --input-dir workspace/data_dst/merged --output-file workspace/result.mp4 --reference-file workspace/data_dst.mp4 --include-audio\n",
        "  if Copy_to_Drive:\n",
        "    !cp /content/drive/My\\ Drive/DeepFaceLab/workspace//result.mp4 /content/drive/My\\ Drive/\n",
        "elif Mode == \"result_mask video\":\n",
        "  !python DeepFaceLab/main.py videoed video-from-sequence --input-dir workspace/data_dst/merged_mask --output-file workspace/result_mask.mp4 --reference-file workspace/data_dst.mp4\n",
        "  if Copy_to_Drive:\n",
        "    !cp /content/drive/My\\ Drive/DeepFaceLab/workspace/result_mask.mp4 /content/drive/My\\ Drive/\n"
      ],
      "execution_count": 0,
      "outputs": []
    },
    {
      "cell_type": "markdown",
      "metadata": {
        "id": "Mi9KdQlhRDU3",
        "colab_type": "text"
      },
      "source": [
        "#其它工具"
      ]
    },
    {
      "cell_type": "code",
      "metadata": {
        "id": "liFdfSzIOpth",
        "colab_type": "code",
        "cellView": "form",
        "colab": {}
      },
      "source": [
        "#@title 创建驱动器工作区模型目录并移动模型文件到驱动器\n",
        "%cd /content/workspace/\n",
        "!mkdir model\n",
        "!cp /content/drive/My Drive/DeepFaceLab/workspace/model/*.* /content/workspace/model/"
      ],
      "execution_count": 0,
      "outputs": []
    }
  ]
}
